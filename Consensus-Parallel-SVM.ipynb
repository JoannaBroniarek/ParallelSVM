{
 "cells": [
  {
   "cell_type": "markdown",
   "metadata": {},
   "source": [
    "# Consensus - based Parallel SVM"
   ]
  },
  {
   "cell_type": "code",
   "execution_count": 1,
   "metadata": {},
   "outputs": [],
   "source": [
    "import numpy as np\n",
    "import csv\n",
    "import pandas as pd\n",
    "import cvxpy as cp\n",
    "import matplotlib.pyplot as plt\n",
    "\n",
    "from sklearn.model_selection import train_test_split\n",
    "from sklearn.metrics import accuracy_score, confusion_matrix\n",
    "from sklearn.preprocessing import StandardScaler, Normalizer\n",
    "import cvxpy as cp\n",
    "\n",
    "from utils import *"
   ]
  },
  {
   "cell_type": "markdown",
   "metadata": {},
   "source": [
    "### Breast Cancer dataset"
   ]
  },
  {
   "cell_type": "code",
   "execution_count": 2,
   "metadata": {},
   "outputs": [],
   "source": [
    "X_train, X_test, y_train, y_test = load_breast_test_train_dataset()"
   ]
  },
  {
   "cell_type": "markdown",
   "metadata": {},
   "source": [
    "### Loan Clients dataset"
   ]
  },
  {
   "cell_type": "code",
   "execution_count": 2,
   "metadata": {},
   "outputs": [],
   "source": [
    "X_train, X_test, y_train, y_test = load_Loan_test_train_dataset()"
   ]
  },
  {
   "cell_type": "code",
   "execution_count": 11,
   "metadata": {},
   "outputs": [
    {
     "data": {
      "text/plain": [
       "array([0.3624054])"
      ]
     },
     "execution_count": 11,
     "metadata": {},
     "output_type": "execute_result"
    }
   ],
   "source": [
    "sum(y_train == 1)/len(y_train)\n",
    "sum(y_test == 1)/len(y_test)"
   ]
  },
  {
   "cell_type": "code",
   "execution_count": 4,
   "metadata": {},
   "outputs": [
    {
     "data": {
      "text/plain": [
       "(9401, 50)"
      ]
     },
     "execution_count": 4,
     "metadata": {},
     "output_type": "execute_result"
    }
   ],
   "source": [
    "X_test.shape"
   ]
  },
  {
   "cell_type": "markdown",
   "metadata": {},
   "source": [
    "### Normalize data"
   ]
  },
  {
   "cell_type": "code",
   "execution_count": 3,
   "metadata": {},
   "outputs": [],
   "source": [
    "normalizer_ = Normalizer()\n",
    "normalizer_.fit(X_train)\n",
    "\n",
    "X_train = normalizer_.transform(X_train)\n",
    "X_test = normalizer_.transform(X_test)"
   ]
  },
  {
   "cell_type": "code",
   "execution_count": 4,
   "metadata": {},
   "outputs": [],
   "source": [
    "# scaler = StandardScaler()\n",
    "# scaler.fit(X_train)\n",
    "\n",
    "# X_train = scaler.transform(X_train)\n",
    "# X_test = scaler.transform(X_test)\n"
   ]
  },
  {
   "cell_type": "markdown",
   "metadata": {},
   "source": [
    "# Optimization --  Parallel Consensus-based SVM"
   ]
  },
  {
   "cell_type": "markdown",
   "metadata": {},
   "source": [
    "## **Divide data into blocks - splitting across data points**"
   ]
  },
  {
   "cell_type": "code",
   "execution_count": 4,
   "metadata": {},
   "outputs": [],
   "source": [
    "def get_chunks(data, n):\n",
    "    return [data[i:i + n] for i in range(0, len(data), n)]"
   ]
  },
  {
   "cell_type": "code",
   "execution_count": 5,
   "metadata": {},
   "outputs": [],
   "source": [
    "def generate_A_mat(X, y):\n",
    "    \n",
    "    # Add ONE at the end of all x-data vectors\n",
    "    X = np.concatenate((X, np.ones((X.shape[0], 1))), axis = 1)\n",
    "    \n",
    "    # -1 * y_vector\n",
    "    minus_y = np.multiply(-1, y).reshape(-1, 1)\n",
    "    \n",
    "    # Componentiwise multiplication\n",
    "    A = np.multiply(minus_y, X)\n",
    "    return A"
   ]
  },
  {
   "cell_type": "markdown",
   "metadata": {},
   "source": [
    "### ADMM"
   ]
  },
  {
   "cell_type": "code",
   "execution_count": 6,
   "metadata": {},
   "outputs": [],
   "source": [
    "class Node():\n",
    "    \n",
    "    def __init__(self, A_chunk, x, rho):\n",
    "        self.A = A_chunk\n",
    "        self.x = x\n",
    "        self.rho = rho\n",
    "    \n",
    "    def compute_x_i(self, u_i, z):\n",
    "        self.u = u_i.reshape(-1, 1)\n",
    "        z = z.reshape(-1, 1)\n",
    "        \n",
    "        m, n = self.A.shape\n",
    "        x = cp.Variable((n, 1))\n",
    "        rho = cp.Parameter(nonneg=True)\n",
    "        rho.value = self.rho\n",
    "        \n",
    "        loss = cp.sum(cp.pos(1 + self.A * x))\n",
    "        reg = cp.sum_squares(x - z + self.u)\n",
    "        prob = cp.Problem(cp.Minimize(loss + rho/2*reg))\n",
    "        prob.solve(verbose=False, solver='ECOS')#solver='OSQP'\n",
    "        self.x = x.value\n",
    "        \n",
    "        del prob\n",
    "        \n",
    "    def compute_u_i(self, z):\n",
    "        self.u = self.u.reshape(-1,1) + self.x - z"
   ]
  },
  {
   "cell_type": "code",
   "execution_count": 48,
   "metadata": {},
   "outputs": [],
   "source": [
    "class FusionCenter():\n",
    "    \n",
    "    def __init__(self, N, rho, lamb, nodes):\n",
    "        self.N = N\n",
    "        self.rho = rho\n",
    "        self.lamb = lamb\n",
    "        self.nodes = nodes #to observe all Node instances\n",
    "        \n",
    "    def _average_x_u(self):\n",
    "        x = np.array(self.x_list) \n",
    "        u = np.array(self.u_list)\n",
    "        \n",
    "        self.x_bar = np.average(x, axis=0).reshape(-1,1)\n",
    "        self.u_bar = np.average(u, axis=0).reshape(-1,1)\n",
    "        \n",
    "    def collect_x_u(self):\n",
    "        self.x_list = []\n",
    "        self.u_list = []\n",
    "        \n",
    "        for node in self.nodes:\n",
    "            self.x_list.append(node.x)\n",
    "            self.u_list.append(node.u)\n",
    "        \n",
    "        print([x_ch[0] for x_ch in self.x_list])\n",
    "        self._average_x_u()\n",
    "    \n",
    "    def compute_z(self):\n",
    "        const_part = self.N * self.rho / (2*self.lamb + self.N*self.rho)\n",
    "        self.z = const_part * (self.x_bar + self.u_bar)\n",
    "#         print(self.z[0])\n",
    "    \n",
    "    def check_consensus(self, error_tol):\n",
    "        \"checking disagreement\"\n",
    "        err_tot = 0\n",
    "        for x in self.x_list:\n",
    "            err = np.linalg.norm(x - self.x_bar, ord=2)**2\n",
    "            err_tot += err\n",
    "        if err_tot/self.N < error_tol:\n",
    "            return True\n",
    "        else:\n",
    "            return False\n",
    "        \n",
    "#         for x in self.x_list:\n",
    "#             diff = x - self.x_bar\n",
    "# #             diff = x - self.z\n",
    "    \n",
    "#             if (abs(diff) > error_tol).any():\n",
    "#                 return False\n",
    "#             else:\n",
    "#                 return True\n",
    "            \n",
    "    def calculate_disagr(self):\n",
    "        err_tot = 0\n",
    "        for x in self.x_list:\n",
    "            err = np.linalg.norm(x - self.x_bar, ord=2)**2\n",
    "            err_tot += err\n",
    "        return err_tot/self.N\n",
    "        "
   ]
  },
  {
   "cell_type": "code",
   "execution_count": 41,
   "metadata": {},
   "outputs": [],
   "source": [
    "def traintest_predict(x):\n",
    "    y_pred_tr = np.sign(A_train.dot(x))\n",
    "    y_pred_te = np.sign(A_test.dot(x))\n",
    "    \n",
    "    return y_pred_tr, y_pred_te\n",
    "\n",
    "\n",
    "def get_accuracies(y_pred_tr, y_pred_te):\n",
    "    train_acc = accuracy_score(y_train, y_pred_tr)\n",
    "    test_acc = accuracy_score(y_test, y_pred_te)\n",
    "    \n",
    "    return train_acc, test_acc"
   ]
  },
  {
   "cell_type": "markdown",
   "metadata": {},
   "source": [
    "### def __main__:"
   ]
  },
  {
   "cell_type": "code",
   "execution_count": 42,
   "metadata": {},
   "outputs": [
    {
     "name": "stdout",
     "output_type": "stream",
     "text": [
      "(5484, 51)\n",
      "(5484, 51)\n",
      "(5484, 51)\n",
      "(5482, 51)\n"
     ]
    }
   ],
   "source": [
    "# Preprocess data\n",
    "\n",
    "NODES = 4\n",
    "\n",
    "A_test = generate_A_mat(X_test, y_test)\n",
    "A_train = generate_A_mat(X_train, y_train)\n",
    "A_chunks = get_chunks(A_train, int(np.ceil(X_train.shape[0]/NODES)))\n",
    "\n",
    "for ch in A_chunks:\n",
    "    print(ch.shape)"
   ]
  },
  {
   "cell_type": "code",
   "execution_count": 61,
   "metadata": {},
   "outputs": [],
   "source": [
    "# Fixed parameters:\n",
    "\n",
    "RHO = 450#1e4 #450\n",
    "LAMBD = 10\n",
    "N = len(A_chunks)\n",
    "E_TOL = 0.00005"
   ]
  },
  {
   "cell_type": "markdown",
   "metadata": {},
   "source": [
    "####  First iteration:"
   ]
  },
  {
   "cell_type": "code",
   "execution_count": 62,
   "metadata": {},
   "outputs": [],
   "source": [
    "N, m = X_train.shape\n",
    "x_init = np.zeros(m+1)\n",
    "z_init = np.zeros(m+1)\n",
    "u_init = np.zeros(m+1)"
   ]
  },
  {
   "cell_type": "code",
   "execution_count": 63,
   "metadata": {},
   "outputs": [],
   "source": [
    "node1 = Node(A_chunk = A_chunks[0], x=x_init, rho = RHO)\n",
    "node2 = Node(A_chunk = A_chunks[1], x=x_init, rho = RHO)\n",
    "node3 = Node(A_chunk = A_chunks[2], x=x_init, rho = RHO)\n",
    "node4 = Node(A_chunk = A_chunks[3], x=x_init, rho = RHO)\n",
    "\n",
    "node1.compute_x_i(u_i = u_init, z = z_init)\n",
    "node2.compute_x_i(u_i = u_init, z = z_init)\n",
    "node3.compute_x_i(u_i = u_init, z = z_init)\n",
    "node4.compute_x_i(u_i = u_init, z = z_init)"
   ]
  },
  {
   "cell_type": "code",
   "execution_count": 64,
   "metadata": {},
   "outputs": [
    {
     "name": "stdout",
     "output_type": "stream",
     "text": [
      "[array([-0.07554833]), array([-0.08037712]), array([-0.08508378]), array([-0.07092985])]\n"
     ]
    }
   ],
   "source": [
    "history_disagr = []\n",
    "\n",
    "FC = FusionCenter(N=NODES, rho=RHO, lamb=LAMBD,\n",
    "                 nodes = [node1, node2, node3, node4])\n",
    "\n",
    "\n",
    "FC.collect_x_u()\n",
    "\n",
    "disagr = FC.calculate_disagr()\n",
    "history_disagr.append(disagr)\n",
    "\n",
    "consensus = FC.check_consensus(error_tol=E_TOL)\n",
    "\n",
    "FC.compute_z()\n",
    "\n",
    "\n",
    "########### SAVE SOME INTERMEDIATE RESULTS\n",
    "history_acc = []\n",
    "y_pred_tr, y_pred_te = traintest_predict(x = FC.x_bar)\n",
    "train_acc, test_acc = get_accuracies(y_pred_tr, y_pred_te)\n",
    "history_acc.append((train_acc, test_acc))\n",
    "\n"
   ]
  },
  {
   "cell_type": "code",
   "execution_count": 65,
   "metadata": {},
   "outputs": [
    {
     "data": {
      "text/plain": [
       "[0.00021178169002273488]"
      ]
     },
     "execution_count": 65,
     "metadata": {},
     "output_type": "execute_result"
    }
   ],
   "source": [
    "history_disagr"
   ]
  },
  {
   "cell_type": "markdown",
   "metadata": {
    "scrolled": true
   },
   "source": [
    "#### More iterations:"
   ]
  },
  {
   "cell_type": "code",
   "execution_count": 66,
   "metadata": {
    "scrolled": true
   },
   "outputs": [
    {
     "name": "stdout",
     "output_type": "stream",
     "text": [
      "2\n",
      "[array([-0.06756953]), array([-0.07013045]), array([-0.07595215]), array([-0.06077555])]\n",
      "3\n",
      "[array([-0.05319314]), array([-0.05510243]), array([-0.06081648]), array([-0.04600303])]\n",
      "4\n",
      "[array([-0.03788156]), array([-0.0405958]), array([-0.04530529]), array([-0.03203457])]\n",
      "5\n",
      "[array([-0.02471793]), array([-0.02742487]), array([-0.03188361]), array([-0.01931189])]\n",
      "6\n",
      "[array([-0.01333883]), array([-0.01493697]), array([-0.02009081]), array([-0.00812566])]\n",
      "7\n",
      "[array([-0.00354157]), array([-0.0049225]), array([-0.00976723]), array([0.00175822])]\n",
      "8\n",
      "[array([0.00512327]), array([0.00332297]), array([-0.00063658]), array([0.0103795])]\n",
      "9\n",
      "[array([0.01192443]), array([0.01070816]), array([0.00704114]), array([0.01721958])]\n",
      "10\n",
      "[array([0.01792232]), array([0.01703656]), array([0.01352846]), array([0.023409])]\n",
      "11\n",
      "[array([0.02372219]), array([0.02271686]), array([0.01972404]), array([0.02820551])]\n",
      "12\n",
      "[array([0.02821056]), array([0.02742532]), array([0.0240894]), array([0.03274535])]\n",
      "13\n",
      "[array([0.03146786]), array([0.03059092]), array([0.02819064]), array([0.03626271])]\n",
      "14\n",
      "[array([0.03365663]), array([0.03359973]), array([0.03120999]), array([0.03899722])]\n",
      "15\n",
      "[array([0.03553962]), array([0.03594142]), array([0.03354118]), array([0.0410433])]\n",
      "16\n",
      "[array([0.03695577]), array([0.03735118]), array([0.0349898]), array([0.04277902])]\n",
      "17\n",
      "[array([0.03821778]), array([0.03877632]), array([0.03612127]), array([0.04359575])]\n",
      "18\n",
      "[array([0.03924442]), array([0.03971958]), array([0.0370673]), array([0.04455659])]\n",
      "19\n",
      "[array([0.03973126]), array([0.04016941]), array([0.03732286]), array([0.04498926])]\n",
      "20\n",
      "[array([0.04010275]), array([0.04031499]), array([0.03713888]), array([0.04504294])]\n",
      "21\n",
      "[array([0.04013124]), array([0.04022703]), array([0.03702082]), array([0.04512359])]\n",
      "22\n",
      "[array([0.0398487]), array([0.04002613]), array([0.03698193]), array([0.04492938])]\n",
      "23\n",
      "[array([0.0396981]), array([0.03972766]), array([0.03682014]), array([0.04468013])]\n",
      "24\n",
      "[array([0.03936058]), array([0.03955014]), array([0.03656584]), array([0.04451018])]\n",
      "25\n",
      "[array([0.03910428]), array([0.03938755]), array([0.03636759]), array([0.0443784])]\n",
      "26\n",
      "[array([0.03899667]), array([0.03920483]), array([0.03635253]), array([0.04419027])]\n",
      "27\n",
      "[array([0.0388969]), array([0.03897116]), array([0.03625497]), array([0.04412971])]\n",
      "28\n",
      "[array([0.03867856]), array([0.03895641]), array([0.03617443]), array([0.04398725])]\n",
      "29\n",
      "[array([0.03865034]), array([0.03893345]), array([0.0360644]), array([0.04387916])]\n",
      "30\n",
      "[array([0.03869985]), array([0.03884698]), array([0.0359869]), array([0.04374459])]\n",
      "31\n",
      "[array([0.0387529]), array([0.03882564]), array([0.03592574]), array([0.04372109])]\n",
      "32\n",
      "[array([0.03881126]), array([0.03880733]), array([0.03591369]), array([0.04366136])]\n",
      "33\n",
      "[array([0.03889137]), array([0.0387142]), array([0.03590422]), array([0.04367391])]\n",
      "34\n",
      "[array([0.03897373]), array([0.03871835]), array([0.035841]), array([0.04371878])]\n",
      "35\n",
      "[array([0.03904577]), array([0.03885834]), array([0.03586755]), array([0.04378107])]\n",
      "36\n",
      "[array([0.03908705]), array([0.03891107]), array([0.03590026]), array([0.04391388])]\n",
      "37\n",
      "[array([0.03913563]), array([0.03900188]), array([0.03597229]), array([0.04397373])]\n",
      "38\n",
      "[array([0.03913432]), array([0.03909308]), array([0.03600048]), array([0.04404359])]\n",
      "39\n",
      "[array([0.039163]), array([0.03919772]), array([0.03606129]), array([0.04410008])]\n",
      "40\n",
      "[array([0.03925379]), array([0.03928467]), array([0.03607787]), array([0.04418308])]\n",
      "41\n",
      "[array([0.03935371]), array([0.03934748]), array([0.03620569]), array([0.04429105])]\n",
      "42\n",
      "[array([0.03953715]), array([0.03939441]), array([0.03633507]), array([0.04438204])]\n",
      "43\n",
      "[array([0.03960075]), array([0.03945809]), array([0.0364567]), array([0.04450076])]\n",
      "44\n",
      "[array([0.03966082]), array([0.03957624]), array([0.0365316]), array([0.04459519])]\n",
      "45\n",
      "[array([0.03976939]), array([0.03972792]), array([0.0366678]), array([0.04469238])]\n",
      "46\n",
      "[array([0.03985377]), array([0.03985737]), array([0.0368163]), array([0.04481753])]\n",
      "47\n",
      "[array([0.03998419]), array([0.03998456]), array([0.03692244]), array([0.04493258])]\n",
      "48\n",
      "[array([0.04007584]), array([0.04010203]), array([0.03704559]), array([0.0450518])]\n",
      "49\n",
      "[array([0.04016504]), array([0.04019241]), array([0.03714621]), array([0.04515542])]\n",
      "50\n",
      "[array([0.04029506]), array([0.04028317]), array([0.03724597]), array([0.04526769])]\n",
      "51\n",
      "[array([0.04041792]), array([0.04041995]), array([0.03735817]), array([0.04541455])]\n",
      "52\n",
      "[array([0.04055205]), array([0.04052555]), array([0.03745351]), array([0.04554343])]\n",
      "53\n",
      "[array([0.04074932]), array([0.04065104]), array([0.03756641]), array([0.04568296])]\n",
      "54\n",
      "[array([0.04090266]), array([0.0408182]), array([0.03770275]), array([0.04580784])]\n",
      "55\n",
      "[array([0.04105595]), array([0.04096249]), array([0.03783902]), array([0.04593884])]\n",
      "56\n",
      "[array([0.04120395]), array([0.04108395]), array([0.0379747]), array([0.04608007])]\n",
      "57\n",
      "[array([0.04133849]), array([0.04117718]), array([0.03810914]), array([0.0462273])]\n",
      "58\n",
      "[array([0.0414689]), array([0.04125256]), array([0.03823785]), array([0.04636237])]\n",
      "59\n",
      "[array([0.04159812]), array([0.0413309]), array([0.03839111]), array([0.04650708])]\n",
      "60\n",
      "[array([0.0417237]), array([0.04142684]), array([0.03849765]), array([0.04664038])]\n",
      "61\n",
      "[array([0.04183746]), array([0.04150975]), array([0.03863383]), array([0.04679255])]\n",
      "62\n",
      "[array([0.04195615]), array([0.04167336]), array([0.03875409]), array([0.04691606])]\n",
      "63\n",
      "[array([0.0420752]), array([0.0418155]), array([0.03889366]), array([0.04706522])]\n",
      "64\n",
      "[array([0.04219122]), array([0.04195333]), array([0.03902092]), array([0.04722241])]\n",
      "65\n",
      "[array([0.04227317]), array([0.04206692]), array([0.03912178]), array([0.0473758])]\n",
      "66\n",
      "[array([0.04240551]), array([0.0421735]), array([0.03923226]), array([0.04751055])]\n",
      "67\n",
      "[array([0.04253005]), array([0.0422931]), array([0.03936649]), array([0.047639])]\n",
      "68\n",
      "[array([0.04266402]), array([0.04241796]), array([0.03949418]), array([0.04776174])]\n",
      "69\n",
      "[array([0.04282679]), array([0.04254493]), array([0.03963136]), array([0.04789343])]\n",
      "70\n",
      "[array([0.04297207]), array([0.04268351]), array([0.03977601]), array([0.0480339])]\n",
      "71\n",
      "[array([0.04309749]), array([0.04282155]), array([0.03992228]), array([0.04818062])]\n",
      "72\n",
      "[array([0.04320645]), array([0.04295754]), array([0.04006771]), array([0.04832248])]\n",
      "73\n",
      "[array([0.04333682]), array([0.04309123]), array([0.04020707]), array([0.04843467])]\n",
      "74\n",
      "[array([0.04346939]), array([0.04315758]), array([0.04034551]), array([0.04855362])]\n",
      "75\n",
      "[array([0.04359231]), array([0.04326616]), array([0.04047625]), array([0.04865502])]\n",
      "76\n",
      "[array([0.04369084]), array([0.0433759]), array([0.04060216]), array([0.04876071])]\n",
      "77\n",
      "[array([0.04378073]), array([0.04348543]), array([0.04071791]), array([0.04886784])]\n",
      "78\n",
      "[array([0.04387775]), array([0.04359835]), array([0.04083771]), array([0.04898694])]\n",
      "79\n",
      "[array([0.04398144]), array([0.04370291]), array([0.04095765]), array([0.04910805])]\n",
      "80\n",
      "[array([0.0440909]), array([0.04381816]), array([0.04107061]), array([0.04923242])]\n",
      "81\n",
      "[array([0.04420393]), array([0.0439333]), array([0.04117604]), array([0.04935956])]\n",
      "82\n",
      "[array([0.04431479]), array([0.04403486]), array([0.04128102]), array([0.04948943])]\n",
      "83\n",
      "[array([0.0444213]), array([0.04414207]), array([0.04138274]), array([0.04961208])]\n",
      "84\n",
      "[array([0.04452527]), array([0.04425008]), array([0.04148412]), array([0.04974395])]\n",
      "85\n",
      "[array([0.04463385]), array([0.04439582]), array([0.04158846]), array([0.04988912])]\n",
      "86\n",
      "[array([0.04476731]), array([0.0445094]), array([0.04170124]), array([0.05001347])]\n",
      "87\n",
      "[array([0.04490243]), array([0.04460867]), array([0.04181719]), array([0.05013586])]\n",
      "88\n",
      "[array([0.04503005]), array([0.0447096]), array([0.04193245]), array([0.05025572])]\n",
      "89\n",
      "[array([0.04515282]), array([0.044822]), array([0.04205031]), array([0.05037385])]\n",
      "90\n",
      "[array([0.04527012]), array([0.0449345]), array([0.04216645]), array([0.05049189])]\n",
      "91\n",
      "[array([0.04537452]), array([0.04503463]), array([0.04228152]), array([0.05060718])]\n",
      "92\n",
      "[array([0.04548536]), array([0.0451419]), array([0.04239318]), array([0.05071262])]\n",
      "93\n",
      "[array([0.04560499]), array([0.04524764]), array([0.04250547]), array([0.05081584])]\n",
      "94\n",
      "[array([0.04571032]), array([0.04535454]), array([0.04261958]), array([0.05092621])]\n",
      "95\n",
      "[array([0.04581582]), array([0.04547985]), array([0.04272156]), array([0.05103451])]\n",
      "96\n"
     ]
    },
    {
     "name": "stdout",
     "output_type": "stream",
     "text": [
      "[array([0.04592119]), array([0.0456068]), array([0.04283726]), array([0.05114194])]\n",
      "97\n",
      "[array([0.04603127]), array([0.04573126]), array([0.04295282]), array([0.05125132])]\n",
      "98\n",
      "[array([0.04614641]), array([0.0458505]), array([0.04306184]), array([0.05137127])]\n",
      "99\n",
      "[array([0.04625767]), array([0.04596476]), array([0.04316097]), array([0.05149476])]\n",
      "100\n",
      "[array([0.04636051]), array([0.04607313]), array([0.04326133]), array([0.05161306])]\n",
      "101\n",
      "[array([0.04646093]), array([0.04617806]), array([0.043363]), array([0.05172237])]\n",
      "102\n",
      "[array([0.04656549]), array([0.04628528]), array([0.04346266]), array([0.05181949])]\n",
      "103\n",
      "[array([0.04667632]), array([0.04639146]), array([0.04355417]), array([0.05191488])]\n",
      "104\n",
      "[array([0.04678811]), array([0.04650652]), array([0.04364629]), array([0.05203112])]\n",
      "105\n",
      "[array([0.046903]), array([0.04661086]), array([0.04374272]), array([0.05215456])]\n",
      "106\n",
      "[array([0.04701525]), array([0.04671143]), array([0.04384224]), array([0.05227063])]\n",
      "107\n",
      "[array([0.04711196]), array([0.04682479]), array([0.04394748]), array([0.05238273])]\n",
      "108\n",
      "[array([0.04721227]), array([0.04693914]), array([0.04405257]), array([0.0524858])]\n",
      "109\n"
     ]
    },
    {
     "ename": "SolverError",
     "evalue": "Solver 'ECOS' failed. Try another solver, or solve with verbose=True for more information.",
     "output_type": "error",
     "traceback": [
      "\u001b[0;31m---------------------------------------------------------------------------\u001b[0m",
      "\u001b[0;31mSolverError\u001b[0m                               Traceback (most recent call last)",
      "\u001b[0;32m<ipython-input-66-548ea64907f2>\u001b[0m in \u001b[0;36m<module>\u001b[0;34m\u001b[0m\n\u001b[1;32m     10\u001b[0m     \u001b[0mnode4\u001b[0m\u001b[0;34m.\u001b[0m\u001b[0mcompute_u_i\u001b[0m\u001b[0;34m(\u001b[0m\u001b[0mz\u001b[0m \u001b[0;34m=\u001b[0m \u001b[0mFC\u001b[0m\u001b[0;34m.\u001b[0m\u001b[0mz\u001b[0m\u001b[0;34m)\u001b[0m\u001b[0;34m\u001b[0m\u001b[0;34m\u001b[0m\u001b[0m\n\u001b[1;32m     11\u001b[0m \u001b[0;34m\u001b[0m\u001b[0m\n\u001b[0;32m---> 12\u001b[0;31m     \u001b[0mnode1\u001b[0m\u001b[0;34m.\u001b[0m\u001b[0mcompute_x_i\u001b[0m\u001b[0;34m(\u001b[0m\u001b[0mu_i\u001b[0m \u001b[0;34m=\u001b[0m \u001b[0mFC\u001b[0m\u001b[0;34m.\u001b[0m\u001b[0mu_list\u001b[0m\u001b[0;34m[\u001b[0m\u001b[0;36m0\u001b[0m\u001b[0;34m]\u001b[0m\u001b[0;34m,\u001b[0m \u001b[0mz\u001b[0m \u001b[0;34m=\u001b[0m \u001b[0mFC\u001b[0m\u001b[0;34m.\u001b[0m\u001b[0mz\u001b[0m\u001b[0;34m)\u001b[0m\u001b[0;34m\u001b[0m\u001b[0;34m\u001b[0m\u001b[0m\n\u001b[0m\u001b[1;32m     13\u001b[0m     \u001b[0mnode2\u001b[0m\u001b[0;34m.\u001b[0m\u001b[0mcompute_x_i\u001b[0m\u001b[0;34m(\u001b[0m\u001b[0mu_i\u001b[0m \u001b[0;34m=\u001b[0m \u001b[0mFC\u001b[0m\u001b[0;34m.\u001b[0m\u001b[0mu_list\u001b[0m\u001b[0;34m[\u001b[0m\u001b[0;36m1\u001b[0m\u001b[0;34m]\u001b[0m\u001b[0;34m,\u001b[0m \u001b[0mz\u001b[0m \u001b[0;34m=\u001b[0m \u001b[0mFC\u001b[0m\u001b[0;34m.\u001b[0m\u001b[0mz\u001b[0m\u001b[0;34m)\u001b[0m\u001b[0;34m\u001b[0m\u001b[0;34m\u001b[0m\u001b[0m\n\u001b[1;32m     14\u001b[0m     \u001b[0mnode3\u001b[0m\u001b[0;34m.\u001b[0m\u001b[0mcompute_x_i\u001b[0m\u001b[0;34m(\u001b[0m\u001b[0mu_i\u001b[0m \u001b[0;34m=\u001b[0m \u001b[0mFC\u001b[0m\u001b[0;34m.\u001b[0m\u001b[0mu_list\u001b[0m\u001b[0;34m[\u001b[0m\u001b[0;36m2\u001b[0m\u001b[0;34m]\u001b[0m\u001b[0;34m,\u001b[0m \u001b[0mz\u001b[0m \u001b[0;34m=\u001b[0m \u001b[0mFC\u001b[0m\u001b[0;34m.\u001b[0m\u001b[0mz\u001b[0m\u001b[0;34m)\u001b[0m\u001b[0;34m\u001b[0m\u001b[0;34m\u001b[0m\u001b[0m\n",
      "\u001b[0;32m<ipython-input-6-9eda4308b316>\u001b[0m in \u001b[0;36mcompute_x_i\u001b[0;34m(self, u_i, z)\u001b[0m\n\u001b[1;32m     18\u001b[0m         \u001b[0mreg\u001b[0m \u001b[0;34m=\u001b[0m \u001b[0mcp\u001b[0m\u001b[0;34m.\u001b[0m\u001b[0msum_squares\u001b[0m\u001b[0;34m(\u001b[0m\u001b[0mx\u001b[0m \u001b[0;34m-\u001b[0m \u001b[0mz\u001b[0m \u001b[0;34m+\u001b[0m \u001b[0mself\u001b[0m\u001b[0;34m.\u001b[0m\u001b[0mu\u001b[0m\u001b[0;34m)\u001b[0m\u001b[0;34m\u001b[0m\u001b[0;34m\u001b[0m\u001b[0m\n\u001b[1;32m     19\u001b[0m         \u001b[0mprob\u001b[0m \u001b[0;34m=\u001b[0m \u001b[0mcp\u001b[0m\u001b[0;34m.\u001b[0m\u001b[0mProblem\u001b[0m\u001b[0;34m(\u001b[0m\u001b[0mcp\u001b[0m\u001b[0;34m.\u001b[0m\u001b[0mMinimize\u001b[0m\u001b[0;34m(\u001b[0m\u001b[0mloss\u001b[0m \u001b[0;34m+\u001b[0m \u001b[0mrho\u001b[0m\u001b[0;34m/\u001b[0m\u001b[0;36m2\u001b[0m\u001b[0;34m*\u001b[0m\u001b[0mreg\u001b[0m\u001b[0;34m)\u001b[0m\u001b[0;34m)\u001b[0m\u001b[0;34m\u001b[0m\u001b[0;34m\u001b[0m\u001b[0m\n\u001b[0;32m---> 20\u001b[0;31m         \u001b[0mprob\u001b[0m\u001b[0;34m.\u001b[0m\u001b[0msolve\u001b[0m\u001b[0;34m(\u001b[0m\u001b[0mverbose\u001b[0m\u001b[0;34m=\u001b[0m\u001b[0;32mFalse\u001b[0m\u001b[0;34m,\u001b[0m \u001b[0msolver\u001b[0m\u001b[0;34m=\u001b[0m\u001b[0;34m'ECOS'\u001b[0m\u001b[0;34m)\u001b[0m\u001b[0;31m#solver='OSQP'\u001b[0m\u001b[0;34m\u001b[0m\u001b[0;34m\u001b[0m\u001b[0m\n\u001b[0m\u001b[1;32m     21\u001b[0m         \u001b[0mself\u001b[0m\u001b[0;34m.\u001b[0m\u001b[0mx\u001b[0m \u001b[0;34m=\u001b[0m \u001b[0mx\u001b[0m\u001b[0;34m.\u001b[0m\u001b[0mvalue\u001b[0m\u001b[0;34m\u001b[0m\u001b[0;34m\u001b[0m\u001b[0m\n\u001b[1;32m     22\u001b[0m \u001b[0;34m\u001b[0m\u001b[0m\n",
      "\u001b[0;32m~/anaconda3/lib/python3.7/site-packages/cvxpy/problems/problem.py\u001b[0m in \u001b[0;36msolve\u001b[0;34m(self, *args, **kwargs)\u001b[0m\n\u001b[1;32m    287\u001b[0m         \u001b[0;32melse\u001b[0m\u001b[0;34m:\u001b[0m\u001b[0;34m\u001b[0m\u001b[0;34m\u001b[0m\u001b[0m\n\u001b[1;32m    288\u001b[0m             \u001b[0msolve_func\u001b[0m \u001b[0;34m=\u001b[0m \u001b[0mProblem\u001b[0m\u001b[0;34m.\u001b[0m\u001b[0m_solve\u001b[0m\u001b[0;34m\u001b[0m\u001b[0;34m\u001b[0m\u001b[0m\n\u001b[0;32m--> 289\u001b[0;31m         \u001b[0;32mreturn\u001b[0m \u001b[0msolve_func\u001b[0m\u001b[0;34m(\u001b[0m\u001b[0mself\u001b[0m\u001b[0;34m,\u001b[0m \u001b[0;34m*\u001b[0m\u001b[0margs\u001b[0m\u001b[0;34m,\u001b[0m \u001b[0;34m**\u001b[0m\u001b[0mkwargs\u001b[0m\u001b[0;34m)\u001b[0m\u001b[0;34m\u001b[0m\u001b[0;34m\u001b[0m\u001b[0m\n\u001b[0m\u001b[1;32m    290\u001b[0m \u001b[0;34m\u001b[0m\u001b[0m\n\u001b[1;32m    291\u001b[0m     \u001b[0;34m@\u001b[0m\u001b[0mclassmethod\u001b[0m\u001b[0;34m\u001b[0m\u001b[0;34m\u001b[0m\u001b[0m\n",
      "\u001b[0;32m~/anaconda3/lib/python3.7/site-packages/cvxpy/problems/problem.py\u001b[0m in \u001b[0;36m_solve\u001b[0;34m(self, solver, warm_start, verbose, parallel, gp, qcp, **kwargs)\u001b[0m\n\u001b[1;32m    572\u001b[0m         \u001b[0mfull_chain\u001b[0m \u001b[0;34m=\u001b[0m \u001b[0mself\u001b[0m\u001b[0;34m.\u001b[0m\u001b[0m_solving_chain\u001b[0m\u001b[0;34m.\u001b[0m\u001b[0mprepend\u001b[0m\u001b[0;34m(\u001b[0m\u001b[0mself\u001b[0m\u001b[0;34m.\u001b[0m\u001b[0m_intermediate_chain\u001b[0m\u001b[0;34m)\u001b[0m\u001b[0;34m\u001b[0m\u001b[0;34m\u001b[0m\u001b[0m\n\u001b[1;32m    573\u001b[0m         \u001b[0minverse_data\u001b[0m \u001b[0;34m=\u001b[0m \u001b[0mself\u001b[0m\u001b[0;34m.\u001b[0m\u001b[0m_intermediate_inverse_data\u001b[0m \u001b[0;34m+\u001b[0m \u001b[0msolving_inverse_data\u001b[0m\u001b[0;34m\u001b[0m\u001b[0;34m\u001b[0m\u001b[0m\n\u001b[0;32m--> 574\u001b[0;31m         \u001b[0mself\u001b[0m\u001b[0;34m.\u001b[0m\u001b[0munpack_results\u001b[0m\u001b[0;34m(\u001b[0m\u001b[0msolution\u001b[0m\u001b[0;34m,\u001b[0m \u001b[0mfull_chain\u001b[0m\u001b[0;34m,\u001b[0m \u001b[0minverse_data\u001b[0m\u001b[0;34m)\u001b[0m\u001b[0;34m\u001b[0m\u001b[0;34m\u001b[0m\u001b[0m\n\u001b[0m\u001b[1;32m    575\u001b[0m         \u001b[0;32mreturn\u001b[0m \u001b[0mself\u001b[0m\u001b[0;34m.\u001b[0m\u001b[0mvalue\u001b[0m\u001b[0;34m\u001b[0m\u001b[0;34m\u001b[0m\u001b[0m\n\u001b[1;32m    576\u001b[0m \u001b[0;34m\u001b[0m\u001b[0m\n",
      "\u001b[0;32m~/anaconda3/lib/python3.7/site-packages/cvxpy/problems/problem.py\u001b[0m in \u001b[0;36munpack_results\u001b[0;34m(self, solution, chain, inverse_data)\u001b[0m\n\u001b[1;32m    715\u001b[0m             raise error.SolverError(\n\u001b[1;32m    716\u001b[0m                     \u001b[0;34m\"Solver '%s' failed. \"\u001b[0m \u001b[0;34m%\u001b[0m \u001b[0mchain\u001b[0m\u001b[0;34m.\u001b[0m\u001b[0msolver\u001b[0m\u001b[0;34m.\u001b[0m\u001b[0mname\u001b[0m\u001b[0;34m(\u001b[0m\u001b[0;34m)\u001b[0m \u001b[0;34m+\u001b[0m\u001b[0;34m\u001b[0m\u001b[0;34m\u001b[0m\u001b[0m\n\u001b[0;32m--> 717\u001b[0;31m                     \u001b[0;34m\"Try another solver, or solve with verbose=True for more \"\u001b[0m\u001b[0;34m\u001b[0m\u001b[0;34m\u001b[0m\u001b[0m\n\u001b[0m\u001b[1;32m    718\u001b[0m                     \"information.\")\n\u001b[1;32m    719\u001b[0m         \u001b[0mself\u001b[0m\u001b[0;34m.\u001b[0m\u001b[0munpack\u001b[0m\u001b[0;34m(\u001b[0m\u001b[0msolution\u001b[0m\u001b[0;34m)\u001b[0m\u001b[0;34m\u001b[0m\u001b[0;34m\u001b[0m\u001b[0m\n",
      "\u001b[0;31mSolverError\u001b[0m: Solver 'ECOS' failed. Try another solver, or solve with verbose=True for more information."
     ]
    }
   ],
   "source": [
    "counter = 1 # Check the number of iterations\n",
    "while not consensus:\n",
    "    counter += 1\n",
    "#     if counter > 5: break\n",
    "    print(counter, end=\"\\n\")\n",
    "    \n",
    "    node1.compute_u_i(z = FC.z)\n",
    "    node2.compute_u_i(z = FC.z)\n",
    "    node3.compute_u_i(z = FC.z)\n",
    "    node4.compute_u_i(z = FC.z)\n",
    "\n",
    "    node1.compute_x_i(u_i = FC.u_list[0], z = FC.z)\n",
    "    node2.compute_x_i(u_i = FC.u_list[1], z = FC.z)\n",
    "    node3.compute_x_i(u_i = FC.u_list[2], z = FC.z)\n",
    "    node4.compute_x_i(u_i = FC.u_list[3], z = FC.z)\n",
    "    \n",
    "    FC.collect_x_u()\n",
    "    disagr = FC.calculate_disagr()\n",
    "    history_disagr.append(disagr)\n",
    "    consensus = FC.check_consensus(error_tol=E_TOL)\n",
    "    FC.compute_z()\n",
    "    \n",
    "    \n",
    "    ########### SAVE SOME INTERMEDIATE RESULTS\n",
    "    y_pred_tr, y_pred_te = traintest_predict(x = FC.x_bar)\n",
    "    train_acc, test_acc = get_accuracies(y_pred_tr, y_pred_te)\n",
    "    history_acc.append((train_acc, test_acc))\n",
    "    \n",
    "#     print(\"train\\n\", confusion_matrix(y_train, y_pred_tr))\n",
    "#     print(\"\\ntest\\n\", confusion_matrix(y_test, y_pred_te))"
   ]
  },
  {
   "cell_type": "code",
   "execution_count": 67,
   "metadata": {},
   "outputs": [
    {
     "name": "stdout",
     "output_type": "stream",
     "text": [
      "No. Iterations =  109\n"
     ]
    }
   ],
   "source": [
    "print(\"No. Iterations = \", counter)"
   ]
  },
  {
   "cell_type": "markdown",
   "metadata": {},
   "source": [
    "**PREDICTIONS and VALIDATION**"
   ]
  },
  {
   "cell_type": "code",
   "execution_count": 68,
   "metadata": {},
   "outputs": [],
   "source": [
    "# y_pred_tr, y_pred_te = traintest_predict(x = FC.x_bar)\n",
    "y_pred_tr = np.sign(A_train.dot(FC.z))\n",
    "y_pred_te = np.sign(A_test.dot(FC.z))\n"
   ]
  },
  {
   "cell_type": "code",
   "execution_count": 69,
   "metadata": {},
   "outputs": [
    {
     "name": "stdout",
     "output_type": "stream",
     "text": [
      "train\n",
      " [[13985     0]\n",
      " [    0  7949]]\n",
      "\n",
      "test\n",
      " [[6015    0]\n",
      " [   0 3386]]\n",
      "\n",
      "ACC: train = 1.000000, test 1.000000\n"
     ]
    }
   ],
   "source": [
    "print(\"train\\n\", confusion_matrix(y_train, y_pred_tr))\n",
    "print(\"\\ntest\\n\", confusion_matrix(y_test, y_pred_te))\n",
    "\n",
    "train_acc, test_acc = get_accuracies(y_pred_tr, y_pred_te)\n",
    "print(\"\\nACC: train = {:f}, test {:f}\".format(train_acc, test_acc))"
   ]
  },
  {
   "cell_type": "code",
   "execution_count": 30,
   "metadata": {},
   "outputs": [],
   "source": [
    "# FC.x_bar"
   ]
  },
  {
   "cell_type": "code",
   "execution_count": 67,
   "metadata": {},
   "outputs": [],
   "source": [
    "# FC.x_bar"
   ]
  },
  {
   "cell_type": "markdown",
   "metadata": {},
   "source": [
    "PLOTS"
   ]
  },
  {
   "cell_type": "code",
   "execution_count": 68,
   "metadata": {},
   "outputs": [],
   "source": [
    "# Accuracy vs. Number of iterations"
   ]
  },
  {
   "cell_type": "code",
   "execution_count": 85,
   "metadata": {},
   "outputs": [
    {
     "data": {
      "text/plain": [
       "1.0"
      ]
     },
     "execution_count": 85,
     "metadata": {},
     "output_type": "execute_result"
    }
   ],
   "source": [
    "plt.plot(range(19), np.ones(19), 'g--', label=\"Centralised\")\n",
    "plt.plot(range(19), [acc[1] for acc in history_acc[1:20]], label=\"Consensus (Test ACC)\")\n",
    "plt.ylim(0,1.06)\n",
    "plt.xlim(0, 10)\n",
    "plt.xticks(range(10))\n",
    "# plt.xscale('log')\n",
    "plt.legend(loc='lower right')\n",
    "plt.xlabel(\"Number of iterations\", fontsize=16)\n",
    "plt.ylabel(\"Accuracy\", fontsize=16)\n",
    "plt.title(\"Consensus Optimization\", fontsize=20)\n",
    "plt.savefig(\"Consensus_Accuracy1.jpg\")"
   ]
  },
  {
   "cell_type": "code",
   "execution_count": 71,
   "metadata": {},
   "outputs": [
    {
     "data": {
      "image/png": "[encoded data removed]",
      "text/plain": [
       "<Figure size 432x288 with 1 Axes>"
      ]
     },
     "metadata": {
      "needs_background": "light"
     },
     "output_type": "display_data"
    }
   ],
   "source": [
    "plt.plot(range(counter-1), [acc[0] for acc in history_acc], label=\"Train acc\")\n",
    "# plt.plot(range(counter-1), [acc[1] for acc in history_acc], label=\"Test acc\")\n",
    "plt.ylim(0,1.06)\n",
    "# plt.xscale('log')\n",
    "plt.legend(loc='lower right')\n",
    "plt.xlabel(\"Number of iterations\", fontsize=16)\n",
    "plt.ylabel(\"Accuracy\", fontsize=16)\n",
    "plt.title(\"Consensus Optimization\")\n",
    "plt.savefig(\"Consensus_Accuracy.jpg\")"
   ]
  },
  {
   "cell_type": "code",
   "execution_count": 28,
   "metadata": {},
   "outputs": [],
   "source": [
    "# Disagreement vs. number of iterations"
   ]
  },
  {
   "cell_type": "code",
   "execution_count": 73,
   "metadata": {},
   "outputs": [
    {
     "data": {
      "image/png": "[encoded data removed]",
      "text/plain": [
       "<Figure size 432x288 with 1 Axes>"
      ]
     },
     "metadata": {
      "needs_background": "light"
     },
     "output_type": "display_data"
    }
   ],
   "source": [
    "plt.plot(range(counter-1), [dis for dis in history_disagr], label=\"Disagreement\")\n",
    "plt.title(\"Consensus Optimization\", fontsize=16)\n",
    "plt.xlabel(\"Number of iterations\", fontsize=16)\n",
    "plt.ylabel(\"Disagreement\", fontsize=16)\n",
    "plt.savefig(\"Consensus_Dis.jpg\")"
   ]
  },
  {
   "cell_type": "code",
   "execution_count": 88,
   "metadata": {},
   "outputs": [
    {
     "data": {
      "text/plain": [
       "[0.0007360655685318018,\n",
       " 0.0009125196997430119,\n",
       " 0.0009922761909713007,\n",
       " 0.0010382587211182873,\n",
       " 0.0010491677340656025,\n",
       " 0.001063376487831978,\n",
       " 0.0010684453859001505,\n",
       " 0.001071483753829604,\n",
       " 0.0010773664581946076,\n",
       " 0.0010797890799217232,\n",
       " 0.0010806814632551356,\n",
       " 0.001081022454963531,\n",
       " 0.0010814960476317186,\n",
       " 0.001081728099731574,\n",
       " 0.0010818299010623398,\n",
       " 0.0010818834572850105,\n",
       " 0.001081904719735817,\n",
       " 0.001081918409006144,\n",
       " 0.0010819325598782255,\n",
       " 0.001081936973989447,\n",
       " 0.0010819397403461278,\n",
       " 0.0010819413642585466,\n",
       " 0.0010819422947568019,\n",
       " 0.001081942820397812,\n",
       " 0.0010819431129485172,\n",
       " 0.0010819432726291939,\n",
       " 0.0010819433575151721,\n",
       " 0.0010819434007096798,\n",
       " 0.0010819434213046168,\n",
       " 0.0010819434297156358,\n",
       " 0.001081943432179438,\n",
       " 0.0010819434316239255,\n",
       " 0.0010819434300294909,\n",
       " 0.0010819434280689975,\n",
       " 0.0010819434263203106,\n",
       " 0.0010819434247586353,\n",
       " 0.001081943423688201,\n",
       " 0.0010819434226439291,\n",
       " 0.0010819434218974407]"
      ]
     },
     "execution_count": 88,
     "metadata": {},
     "output_type": "execute_result"
    }
   ],
   "source": [
    "history_disagr"
   ]
  },
  {
   "cell_type": "markdown",
   "metadata": {},
   "source": [
    "## Centralised version"
   ]
  },
  {
   "cell_type": "code",
   "execution_count": 11,
   "metadata": {},
   "outputs": [
    {
     "name": "stdout",
     "output_type": "stream",
     "text": [
      "\n",
      "ECOS 2.0.7 - (C) embotech GmbH, Zurich Switzerland, 2012-15. Web: www.embotech.com/ECOS\n",
      "\n",
      "It     pcost       dcost      gap   pres   dres    k/t    mu     step   sigma     IR    |   BT\n",
      " 0  +8.425e+03  +7.020e+04  +9e+05  8e-01  2e+01  1e+00  2e+01    ---    ---    2  1  - |  -  - \n",
      " 1  +9.588e+03  +6.882e+04  +9e+05  8e-01  2e+01  2e+00  2e+01  0.0270  9e-01   1  1  1 |  0  0\n",
      " 2  +1.111e+04  +6.687e+04  +8e+05  8e-01  8e+00  8e+00  2e+01  0.1421  8e-01   2  1  2 |  0  0\n",
      " 3  +1.470e+04  +4.346e+04  +7e+05  4e-01  3e+00  3e+01  2e+01  0.3319  5e-01   3  2  2 |  0  0\n",
      " 4  +1.485e+04  +4.169e+04  +7e+05  4e-01  3e+00  3e+01  2e+01  0.0505  6e-01   3  2  2 |  0  0\n",
      " 5  +1.498e+04  +4.120e+04  +7e+05  4e-01  3e+00  3e+01  2e+01  0.0572  9e-01   2  2  2 |  0  0\n",
      " 6  +1.585e+04  +2.102e+04  +3e+05  7e-02  3e-01  3e+01  6e+00  0.7529  2e-01   3  1  2 |  0  0\n",
      " 7  +1.600e+04  +1.877e+04  +2e+05  4e-02  1e-01  2e+01  4e+00  0.4482  7e-02   3  2  2 |  0  0\n",
      " 8  +1.598e+04  +1.837e+04  +1e+05  3e-02  1e-01  1e+01  3e+00  0.2419  5e-01   2  2  2 |  0  0\n",
      " 9  +1.595e+04  +1.801e+04  +1e+05  3e-02  8e-02  9e+00  3e+00  0.2658  5e-01   3  2  2 |  0  0\n",
      "10  +1.594e+04  +1.776e+04  +1e+05  2e-02  7e-02  7e+00  3e+00  0.1763  4e-01   3  3  2 |  0  0\n",
      "11  +1.592e+04  +1.719e+04  +8e+04  2e-02  4e-02  4e+00  2e+00  0.4135  3e-01   2  2  2 |  0  0\n",
      "12  +1.591e+04  +1.705e+04  +7e+04  1e-02  4e-02  3e+00  2e+00  0.2007  5e-01   3  3  2 |  0  0\n",
      "13  +1.590e+04  +1.689e+04  +6e+04  1e-02  3e-02  3e+00  1e+00  0.2826  6e-01   2  2  2 |  0  0\n",
      "14  +1.590e+04  +1.683e+04  +6e+04  1e-02  3e-02  1e+00  1e+00  0.4979  9e-01   2  2  2 |  0  0\n",
      "15  +1.590e+04  +1.663e+04  +5e+04  9e-03  2e-02  9e-01  1e+00  0.3895  5e-01   3  2  2 |  0  0\n",
      "16  +1.588e+04  +1.598e+04  +7e+03  1e-03  4e-03  1e-01  2e-01  0.8820  4e-02   2  2  2 |  0  0\n",
      "17  +1.590e+04  +1.598e+04  +5e+03  9e-04  3e-03  4e-02  1e-01  0.6098  6e-01   3  4  4 |  0  0\n",
      "18  +1.590e+04  +1.592e+04  +2e+03  3e-04  1e-03  1e-02  4e-02  0.7475  5e-02   4  3  3 |  0  0\n",
      "19  +1.590e+04  +1.591e+04  +7e+02  1e-04  5e-04  3e-03  2e-02  0.7653  3e-01   3  3  4 |  0  0\n",
      "20  +1.590e+04  +1.591e+04  +4e+02  6e-05  3e-04  1e-03  9e-03  0.5311  2e-01   4  4  5 |  0  0\n",
      "21  +1.590e+04  +1.591e+04  +2e+02  3e-05  1e-04  6e-04  4e-03  0.5910  1e-01   4  4  4 |  0  0\n",
      "22  +1.590e+04  +1.591e+04  +1e+02  2e-05  1e-04  4e-04  3e-03  0.3025  4e-01   4  4  4 |  0  0\n",
      "23  +1.590e+04  +1.590e+04  +7e+01  1e-05  6e-05  2e-04  2e-03  0.5590  1e-01   4  4  4 |  0  0\n",
      "24  +1.590e+04  +1.590e+04  +4e+01  7e-06  4e-05  9e-05  9e-04  0.5672  2e-01   4  3  3 |  0  0\n",
      "25  +1.590e+04  +1.590e+04  +2e+01  3e-06  2e-05  4e-05  4e-04  0.6235  7e-02   4  3  3 |  0  0\n",
      "26  +1.590e+04  +1.590e+04  +1e+01  2e-06  9e-06  2e-05  2e-04  0.4888  2e-01   4  3  3 |  0  0\n",
      "27  +1.590e+04  +1.590e+04  +5e+00  7e-07  4e-06  8e-06  1e-04  0.6194  8e-02   4  3  3 |  0  0\n",
      "28  +1.590e+04  +1.590e+04  +1e+00  2e-07  1e-06  2e-06  3e-05  0.8173  1e-01   4  3  3 |  0  0\n",
      "29  +1.590e+04  +1.590e+04  +4e-01  6e-08  3e-07  5e-07  8e-06  0.8320  1e-01   4  3  3 |  0  0\n",
      "30  +1.590e+04  +1.590e+04  +7e-02  1e-08  6e-08  9e-08  2e-06  0.8084  2e-02   4  3  3 |  0  0\n",
      "31  +1.590e+04  +1.590e+04  +7e-03  1e-09  6e-09  8e-09  2e-07  0.9447  4e-02   4  2  2 |  0  0\n",
      "32  +1.590e+04  +1.590e+04  +8e-04  1e-10  7e-10  8e-10  2e-08  0.9237  4e-02   4  2  1 |  0  0\n",
      "33  +1.590e+04  +1.590e+04  +1e-05  2e-12  1e-11  1e-11  3e-10  0.9878  3e-03   4  1  2 |  0  0\n",
      "\n",
      "OPTIMAL (within feastol=9.9e-12, reltol=7.2e-10, abstol=1.1e-05).\n",
      "Runtime: 4.528800 seconds.\n",
      "\n"
     ]
    },
    {
     "data": {
      "text/plain": [
       "15903.960710156014"
      ]
     },
     "execution_count": 11,
     "metadata": {},
     "output_type": "execute_result"
    }
   ],
   "source": [
    "m, n = X_train.shape\n",
    "\n",
    "x = cp.Variable((n+1, 1))\n",
    "lambd = cp.Parameter(nonneg=True)\n",
    "loss = cp.sum(cp.pos(1 + A_train*x))\n",
    "reg = cp.sum_squares(x)\n",
    "prob = cp.Problem(cp.Minimize(loss + lambd*reg))\n",
    "\n",
    "lambd.value = 10\n",
    "\n",
    "prob.solve(verbose=True, solver='ECOS')"
   ]
  },
  {
   "cell_type": "code",
   "execution_count": 12,
   "metadata": {},
   "outputs": [
    {
     "name": "stdout",
     "output_type": "stream",
     "text": [
      "train\n",
      " [[13985     0]\n",
      " [    0  7949]]\n",
      "\n",
      "test\n",
      " [[6015    0]\n",
      " [   0 3386]]\n",
      "\n",
      "ACC: \n",
      "train = 1.0, \n",
      "test 1.0\n"
     ]
    }
   ],
   "source": [
    "y_pred_tr = np.sign(A_train.dot(x.value))\n",
    "y_pred_te = np.sign(A_test.dot(x.value))\n",
    "\n",
    "train_error = (y_train != y_pred_tr).sum()/len(y_train)\n",
    "test_error = (y_test != y_pred_te).sum()/len(y_test)\n",
    "\n",
    "train_acc = accuracy_score(y_train, y_pred_tr)\n",
    "test_acc = accuracy_score(y_test, y_pred_te)\n",
    "\n",
    "print(\"train\\n\", confusion_matrix(y_train, y_pred_tr))\n",
    "print(\"\\ntest\\n\", confusion_matrix(y_test, y_pred_te))\n",
    "\n",
    "print(\"\\nACC: \\ntrain = {}, \\ntest {}\".format(train_acc, test_acc))\n"
   ]
  },
  {
   "cell_type": "code",
   "execution_count": 74,
   "metadata": {},
   "outputs": [
    {
     "name": "stdout",
     "output_type": "stream",
     "text": [
      "[0.05337571] [0.04767244]\n",
      "[-0.02180852] [-0.00167212]\n",
      "[0.08543553] [0.07444368]\n",
      "[0.01439653] [0.01177894]\n",
      "[0.00692604] [0.00726537]\n",
      "[0.00878857] [0.00657065]\n",
      "[0.02572417] [0.01861472]\n",
      "[-0.02407003] [-0.02261814]\n",
      "[-0.00363048] [-0.00337165]\n",
      "[0.00504717] [0.00367387]\n",
      "[-0.00288356] [-0.00216987]\n",
      "[-0.00214488] [-0.00103763]\n",
      "[-0.04316751] [-0.03840585]\n",
      "[-0.00501182] [-0.00251164]\n",
      "[-0.01512126] [-0.01413082]\n",
      "[-0.00948289] [-0.00895243]\n",
      "[-0.09411324] [-0.08513744]\n",
      "[-0.05075451] [-0.04688068]\n",
      "[-0.01028975] [-0.00899122]\n",
      "[0.39874052] [0.34022686]\n",
      "[-0.0027272] [-0.00255644]\n",
      "[0.25670447] [0.20628029]\n",
      "[-0.01345056] [-0.0133017]\n",
      "[-0.03122118] [-0.02142995]\n",
      "[-0.00320901] [-0.00208463]\n",
      "[-0.00027402] [-0.00019305]\n",
      "[-0.00134614] [-0.00109386]\n",
      "[0.00042656] [0.0003005]\n",
      "[0.01231456] [0.01353731]\n",
      "[-0.0728825] [-0.06326947]\n",
      "[0.01149359] [0.01192946]\n",
      "[0.00604528] [0.00425891]\n",
      "[-0.02758201] [-0.02148336]\n",
      "[-0.02396133] [-0.0164445]\n",
      "[-0.00725142] [-0.00540069]\n",
      "[-0.00421661] [-0.0035217]\n",
      "[-0.00585107] [-0.00258576]\n",
      "[-0.0014774] [-0.00217716]\n",
      "[0.01261118] [0.00874016]\n",
      "[-0.00180101] [-0.00125335]\n",
      "[-0.00166277] [-0.00155332]\n",
      "[0.01579906] [0.01081595]\n",
      "[0.00638794] [0.00465306]\n",
      "[-0.0062932] [-0.00502048]\n",
      "[-0.00377571] [-0.00257156]\n",
      "[-0.06687562] [-0.05942414]\n",
      "[0.01354759] [0.01079522]\n",
      "[0.00716867] [0.00505036]\n",
      "[0.37248286] [0.26242809]\n",
      "[0.0262545] [0.0192987]\n",
      "[-0.98800302] [-0.98872446]\n"
     ]
    }
   ],
   "source": [
    "for i in range(len(x.value)):\n",
    "    print(x.value[i], FC.x_bar[i])"
   ]
  },
  {
   "cell_type": "code",
   "execution_count": null,
   "metadata": {},
   "outputs": [],
   "source": []
  }
 ],
 "metadata": {
  "kernelspec": {
   "display_name": "Python 3",
   "language": "python",
   "name": "python3"
  },
  "language_info": {
   "codemirror_mode": {
    "name": "ipython",
    "version": 3
   },
   "file_extension": ".py",
   "mimetype": "text/x-python",
   "name": "python",
   "nbconvert_exporter": "python",
   "pygments_lexer": "ipython3",
   "version": "3.7.3"
  }
 },
 "nbformat": 4,
 "nbformat_minor": 2
}
